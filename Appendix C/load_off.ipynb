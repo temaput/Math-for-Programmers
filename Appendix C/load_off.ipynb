{
 "cells": [
  {
   "cell_type": "code",
   "execution_count": 12,
   "metadata": {},
   "outputs": [],
   "source": [
    "from vectors import scale\n",
    "\n",
    "\n",
    "MARKERS_LINE = 1\n",
    "\n",
    "\n",
    "def parse_vertice_line(line: str):\n",
    "    return scale(1.5, [float(x) for x in line.split()])\n",
    "\n",
    "\n",
    "def triangulate(face):\n",
    "    if len(face) == 4:\n",
    "        [a, b, c, d] = face\n",
    "        return [[a, b, c], [a, c, d]]\n",
    "    else:\n",
    "        return [face]\n",
    "\n",
    "\n",
    "\n",
    "\n"
   ]
  },
  {
   "cell_type": "code",
   "execution_count": 18,
   "metadata": {},
   "outputs": [
    {
     "ename": "NameError",
     "evalue": "name 'quit' is not defined",
     "output_type": "error",
     "traceback": [
      "\u001b[0;31m---------------------------------------------------------------------------\u001b[0m",
      "\u001b[0;31mNameError\u001b[0m                                 Traceback (most recent call last)",
      "\u001b[1;32m/Users/artemputilov/py/stuff/Math-for-Programmers/Appendix C/load_off.ipynb Cell 2\u001b[0m in \u001b[0;36m<cell line: 4>\u001b[0;34m()\u001b[0m\n\u001b[1;32m     <a href='vscode-notebook-cell:/Users/artemputilov/py/stuff/Math-for-Programmers/Appendix%20C/load_off.ipynb#W1sZmlsZQ%3D%3D?line=27'>28</a>\u001b[0m         \u001b[39massert\u001b[39;00m(\u001b[39mlen\u001b[39m(v) \u001b[39m==\u001b[39m \u001b[39m3\u001b[39m)\n\u001b[1;32m     <a href='vscode-notebook-cell:/Users/artemputilov/py/stuff/Math-for-Programmers/Appendix%20C/load_off.ipynb#W1sZmlsZQ%3D%3D?line=29'>30</a>\u001b[0m \u001b[39m# print(\"Vertices: %s ... %s\" % (vertices[0], vertices[-1]))\u001b[39;00m\n\u001b[1;32m     <a href='vscode-notebook-cell:/Users/artemputilov/py/stuff/Math-for-Programmers/Appendix%20C/load_off.ipynb#W1sZmlsZQ%3D%3D?line=30'>31</a>\u001b[0m \n\u001b[1;32m     <a href='vscode-notebook-cell:/Users/artemputilov/py/stuff/Math-for-Programmers/Appendix%20C/load_off.ipynb#W1sZmlsZQ%3D%3D?line=31'>32</a>\u001b[0m \u001b[39m# print(\"Faces: %s ... %s\" % (faces[0], faces[-1]))\u001b[39;00m\n\u001b[0;32m---> <a href='vscode-notebook-cell:/Users/artemputilov/py/stuff/Math-for-Programmers/Appendix%20C/load_off.ipynb#W1sZmlsZQ%3D%3D?line=33'>34</a>\u001b[0m draw_model(faces, glRotatefArgs\u001b[39m=\u001b[39;49m(\u001b[39m-\u001b[39;49m\u001b[39m90\u001b[39;49m, \u001b[39m0\u001b[39;49m, \u001b[39m1\u001b[39;49m, \u001b[39m0\u001b[39;49m))\n",
      "File \u001b[0;32m~/py/stuff/Math-for-Programmers/Appendix C/draw_model.py:53\u001b[0m, in \u001b[0;36mdraw_model\u001b[0;34m(faces, color_map, light, glRotatefArgs, get_matrix)\u001b[0m\n\u001b[1;32m     51\u001b[0m     \u001b[39mif\u001b[39;00m event\u001b[39m.\u001b[39mtype \u001b[39m==\u001b[39m pygame\u001b[39m.\u001b[39mQUIT:\n\u001b[1;32m     52\u001b[0m         pygame\u001b[39m.\u001b[39mquit()\n\u001b[0;32m---> 53\u001b[0m         quit()\n\u001b[1;32m     55\u001b[0m glClear(GL_COLOR_BUFFER_BIT\u001b[39m|\u001b[39mGL_DEPTH_BUFFER_BIT)\n\u001b[1;32m     56\u001b[0m Axes()\n",
      "\u001b[0;31mNameError\u001b[0m: name 'quit' is not defined"
     ]
    },
    {
     "ename": "",
     "evalue": "",
     "output_type": "error",
     "traceback": [
      "\u001b[1;31mThe Kernel crashed while executing code in the the current cell or a previous cell. Please review the code in the cell(s) to identify a possible cause of the failure. Click <a href='https://aka.ms/vscodeJupyterKernelCrash'>here</a> for more info. View Jupyter <a href='command:jupyter.viewOutput'>log</a> for further details."
     ]
    }
   ],
   "source": [
    "file_path = \"teapot.off\"\n",
    "import itertools\n",
    "from draw_model import draw_model\n",
    "with open(file_path) as f:\n",
    "    lines = f.readlines()\n",
    "\n",
    "    markers_line = lines[MARKERS_LINE]\n",
    "    next_line = MARKERS_LINE + 1\n",
    "\n",
    "    vertices_count, faces_count, _ = markers_line.split()\n",
    "    vertices_count = int(vertices_count)\n",
    "\n",
    "    faces_count = int(faces_count)\n",
    "\n",
    "    vertices_lines = lines[next_line:next_line + vertices_count]\n",
    "    faces_lines = lines[next_line + vertices_count:next_line + vertices_count +\n",
    "                        faces_count]\n",
    "\n",
    "    vertices = [parse_vertice_line(l) for l in vertices_lines]\n",
    "    def parse_face_line(face_line):\n",
    "        results = [vertices[int(x)] for x in face_line.split()[1:]]\n",
    "        return results\n",
    "    faces = [parse_face_line(l) for l in faces_lines]\n",
    "    faces = list(itertools.chain(*(triangulate(f) for f in faces)))\n",
    "    for f in faces:\n",
    "        assert(len(f) == 3)\n",
    "        for v in f:\n",
    "            assert(len(v) == 3)\n",
    "\n",
    "    # print(\"Vertices: %s ... %s\" % (vertices[0], vertices[-1]))\n",
    "\n",
    "    # print(\"Faces: %s ... %s\" % (faces[0], faces[-1]))\n",
    "\n",
    "    draw_model(faces, glRotatefArgs=(-90, 0, 1, 0))\n"
   ]
  },
  {
   "cell_type": "code",
   "execution_count": null,
   "metadata": {},
   "outputs": [],
   "source": []
  },
  {
   "cell_type": "code",
   "execution_count": 1,
   "metadata": {},
   "outputs": [
    {
     "data": {
      "text/plain": [
       "['1', '2']"
      ]
     },
     "execution_count": 1,
     "metadata": {},
     "output_type": "execute_result"
    }
   ],
   "source": [
    "'1  2'.split()"
   ]
  }
 ],
 "metadata": {
  "kernelspec": {
   "display_name": "Python 3.10.4 ('.env': venv)",
   "language": "python",
   "name": "python3"
  },
  "language_info": {
   "codemirror_mode": {
    "name": "ipython",
    "version": 3
   },
   "file_extension": ".py",
   "mimetype": "text/x-python",
   "name": "python",
   "nbconvert_exporter": "python",
   "pygments_lexer": "ipython3",
   "version": "3.10.4"
  },
  "orig_nbformat": 4,
  "vscode": {
   "interpreter": {
    "hash": "dc6a263194e9d061a37ccc3cc04f10fd991c35ee32c3a8abb8c671deb8ae0164"
   }
  }
 },
 "nbformat": 4,
 "nbformat_minor": 2
}
