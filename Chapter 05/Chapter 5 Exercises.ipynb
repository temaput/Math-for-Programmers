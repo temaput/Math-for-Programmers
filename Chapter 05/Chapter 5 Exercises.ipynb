{
 "cells": [
  {
   "cell_type": "code",
   "execution_count": 27,
   "metadata": {},
   "outputs": [],
   "source": [
    "from IPython.display import display, Markdown\n",
    "from random import randint\n",
    "from io import StringIO\n",
    "from vectors import dot\n",
    "\n",
    "\n",
    "def generate_random_matrix(rows: int, cols: int, min=-2, max=2):\n",
    "    return tuple(\n",
    "        tuple(randint(min, max) for _ in range(cols)) for _ in range(rows))\n",
    "\n",
    "\n",
    "def latex_matrix(m: tuple[tuple[int]]) -> str:\n",
    "    buffer = StringIO()\n",
    "    print(r\"\\begin{pmatrix}\", file=buffer)\n",
    "    for row in m:\n",
    "        if type(row) == int:\n",
    "            # its a vector\n",
    "            print(f\"{row}\" + r\"\\\\\", file=buffer)\n",
    "        else:\n",
    "            print(\" & \".join([str(x) for x in row]) + r\"\\\\\", file=buffer)\n",
    "    print(r\"\\end{pmatrix}\", file=buffer)\n",
    "    return buffer.getvalue()\n",
    "\n",
    "\n",
    "def print_matrix(m: tuple[tuple[int]], label: str | None = None):\n",
    "    lm = latex_matrix(m)\n",
    "    if label:\n",
    "        display(Markdown(f'**{label}**: $ {lm} $'))\n",
    "    else:\n",
    "        display(Markdown(f\"$$ {lm} $$\"))\n",
    "\n",
    "def print_matrixes(*matrixes: list[tuple[tuple[int]]], label: str | None = None):\n",
    "    lms = \" \".join(['$ ' + latex_matrix(m) + ' $' for m in matrixes])\n",
    "    if label:\n",
    "        display(Markdown(f'**{label}**: {lms}'))\n",
    "    else:\n",
    "        display(Markdown(lms))\n",
    "\n",
    "def matrix_multiply(a, b):\n",
    "    return tuple(tuple(dot(row, col) for col in zip(*b)) for row in a)\n"
   ]
  },
  {
   "cell_type": "code",
   "execution_count": 13,
   "metadata": {},
   "outputs": [
    {
     "data": {
      "text/markdown": [
       "$ \\begin{pmatrix}\n",
       "9 & 5 & 3\\\\\n",
       "6 & 7 & 5\\\\\n",
       "8 & 9 & 6\\\\\n",
       "\\end{pmatrix}\n",
       " \\begin{pmatrix}\n",
       "-2 & 0 & 2\\\\\n",
       "2 & -2 & 0\\\\\n",
       "0 & 1 & 0\\\\\n",
       "\\end{pmatrix}\n",
       " $"
      ],
      "text/plain": [
       "<IPython.core.display.Markdown object>"
      ]
     },
     "metadata": {},
     "output_type": "display_data"
    },
    {
     "data": {
      "text/markdown": [
       "$ \\begin{pmatrix}\n",
       "7 & 7 & 1\\\\\n",
       "7 & 3 & 8\\\\\n",
       "8 & 6 & 3\\\\\n",
       "\\end{pmatrix}\n",
       " \\begin{pmatrix}\n",
       "0 & 2 & 1\\\\\n",
       "-2 & -2 & -2\\\\\n",
       "2 & -1 & 2\\\\\n",
       "\\end{pmatrix}\n",
       " $"
      ],
      "text/plain": [
       "<IPython.core.display.Markdown object>"
      ]
     },
     "metadata": {},
     "output_type": "display_data"
    },
    {
     "data": {
      "text/markdown": [
       "$ \\begin{pmatrix}\n",
       "9 & 4 & 7\\\\\n",
       "3 & 7 & 5\\\\\n",
       "5 & 4 & 2\\\\\n",
       "\\end{pmatrix}\n",
       " \\begin{pmatrix}\n",
       "-2 & 1 & -2\\\\\n",
       "-1 & 2 & 1\\\\\n",
       "0 & 1 & -2\\\\\n",
       "\\end{pmatrix}\n",
       " $"
      ],
      "text/plain": [
       "<IPython.core.display.Markdown object>"
      ]
     },
     "metadata": {},
     "output_type": "display_data"
    },
    {
     "data": {
      "text/markdown": [
       "$ \\begin{pmatrix}\n",
       "2 & 3 & 2\\\\\n",
       "3 & 1 & 6\\\\\n",
       "6 & 3 & 2\\\\\n",
       "\\end{pmatrix}\n",
       " \\begin{pmatrix}\n",
       "0 & -1 & -1\\\\\n",
       "0 & 2 & 2\\\\\n",
       "1 & 1 & 1\\\\\n",
       "\\end{pmatrix}\n",
       " $"
      ],
      "text/plain": [
       "<IPython.core.display.Markdown object>"
      ]
     },
     "metadata": {},
     "output_type": "display_data"
    },
    {
     "data": {
      "text/markdown": [
       "$ \\begin{pmatrix}\n",
       "3 & 9 & 4\\\\\n",
       "4 & 2 & 7\\\\\n",
       "7 & 4 & 4\\\\\n",
       "\\end{pmatrix}\n",
       " \\begin{pmatrix}\n",
       "0 & 0 & 2\\\\\n",
       "2 & 2 & -1\\\\\n",
       "-1 & 1 & 0\\\\\n",
       "\\end{pmatrix}\n",
       " $"
      ],
      "text/plain": [
       "<IPython.core.display.Markdown object>"
      ]
     },
     "metadata": {},
     "output_type": "display_data"
    }
   ],
   "source": [
    "matrix_pairs = []\n",
    "for _ in range(5):\n",
    "    m1 = generate_random_matrix(3, 3, min=1, max=9)\n",
    "    m2 = generate_random_matrix(3, 3)\n",
    "    display(Markdown(f\"$ {latex_matrix(m1)} {latex_matrix(m2)} $\"))\n",
    "    matrix_pairs.append((m1, m2))"
   ]
  },
  {
   "cell_type": "code",
   "execution_count": 27,
   "metadata": {},
   "outputs": [
    {
     "data": {
      "text/markdown": [
       "**result**: $ \\begin{pmatrix}\n",
       "14 & 8 & 8\\\\\n",
       "7 & 18 & 18\\\\\n",
       "1 & -7 & 3\\\\\n",
       "\\end{pmatrix}\n",
       " $"
      ],
      "text/plain": [
       "<IPython.core.display.Markdown object>"
      ]
     },
     "metadata": {},
     "output_type": "display_data"
    }
   ],
   "source": [
    "m1, m2 = matrix_pairs[4]\n",
    "print_matrix(matrix_multiply(m2, m1), \"result\")"
   ]
  },
  {
   "cell_type": "code",
   "execution_count": 22,
   "metadata": {},
   "outputs": [
    {
     "data": {
      "text/markdown": [
       "**result**: $ \\begin{pmatrix}\n",
       "14 & 22 & -3\\\\\n",
       "-3 & 11 & 6\\\\\n",
       "4 & 12 & 10\\\\\n",
       "\\end{pmatrix}\n",
       " $"
      ],
      "text/plain": [
       "<IPython.core.display.Markdown object>"
      ]
     },
     "metadata": {},
     "output_type": "display_data"
    }
   ],
   "source": [
    "m1, m2 = matrix_pairs[4]\n",
    "print_matrix(matrix_multiply(m1, m2), \"result\")"
   ]
  },
  {
   "cell_type": "code",
   "execution_count": 11,
   "metadata": {},
   "outputs": [
    {
     "data": {
      "text/markdown": [
       "**Result**: $ \\begin{pmatrix}\n",
       "-5 & -3 & -2\\\\\n",
       "2 & 6 & -4\\\\\n",
       "-3 & -1 & 4\\\\\n",
       "\\end{pmatrix}\n",
       " $"
      ],
      "text/plain": [
       "<IPython.core.display.Markdown object>"
      ]
     },
     "metadata": {},
     "output_type": "display_data"
    }
   ],
   "source": [
    "m1 = (\n",
    "    (1, -2, 1),\n",
    "    (-1, 2, 2),\n",
    "    (2, 2, 1)\n",
    ")\n",
    "m2 = (\n",
    "    (-2, -2, 2),\n",
    "    (1, 1, 1),\n",
    "    (-1, 1, -2)\n",
    ")\n",
    "\n",
    "result = matrix_multiply(m1, m2)\n",
    "print_matrix(result, \"Result\")"
   ]
  },
  {
   "cell_type": "code",
   "execution_count": 20,
   "metadata": {},
   "outputs": [],
   "source": [
    "from vectors import linear_combination\n",
    "\n",
    "\n",
    "def multiply_matrix_vector(matrix, vector):\n",
    "    return linear_combination(vector, *zip(*matrix))"
   ]
  },
  {
   "cell_type": "code",
   "execution_count": 31,
   "metadata": {},
   "outputs": [],
   "source": [
    "def multiply_matrix_vector1(matrix: tuple[tuple[int]], vector: tuple[int]):\n",
    "    return [sum(a * x for a, x in zip(vector, row))\n",
    "            for row in matrix]\n",
    "\n",
    "def multiply_matrix_vector2(matrix: tuple[tuple[int]], vector: tuple[int]):\n",
    "    return [dot(row, vector) for row in matrix]\n"
   ]
  },
  {
   "cell_type": "code",
   "execution_count": 32,
   "metadata": {},
   "outputs": [
    {
     "data": {
      "text/markdown": [
       "$ \\begin{pmatrix}\n",
       "0\\\\\n",
       "9\\\\\n",
       "9\\\\\n",
       "\\end{pmatrix}\n",
       " $ $ \\begin{pmatrix}\n",
       "0\\\\\n",
       "9\\\\\n",
       "9\\\\\n",
       "\\end{pmatrix}\n",
       " $ $ \\begin{pmatrix}\n",
       "0\\\\\n",
       "9\\\\\n",
       "9\\\\\n",
       "\\end{pmatrix}\n",
       " $"
      ],
      "text/plain": [
       "<IPython.core.display.Markdown object>"
      ]
     },
     "metadata": {},
     "output_type": "display_data"
    }
   ],
   "source": [
    "v = (1,2,3)\n",
    "m1 = (\n",
    "    (1, -2, 1),\n",
    "    (-1, 2, 2),\n",
    "    (2, 2, 1)\n",
    ")\n",
    "\n",
    "result1 = multiply_matrix_vector(m1, v)\n",
    "result2 = multiply_matrix_vector1(m1, v)\n",
    "result3 = multiply_matrix_vector2(m1, v)\n",
    "print_matrixes(result1, result2, result3)"
   ]
  },
  {
   "cell_type": "code",
   "execution_count": null,
   "metadata": {},
   "outputs": [],
   "source": []
  }
 ],
 "metadata": {
  "kernelspec": {
   "display_name": ".venv",
   "language": "python",
   "name": "python3"
  },
  "language_info": {
   "codemirror_mode": {
    "name": "ipython",
    "version": 3
   },
   "file_extension": ".py",
   "mimetype": "text/x-python",
   "name": "python",
   "nbconvert_exporter": "python",
   "pygments_lexer": "ipython3",
   "version": "3.11.1"
  },
  "orig_nbformat": 4
 },
 "nbformat": 4,
 "nbformat_minor": 2
}
