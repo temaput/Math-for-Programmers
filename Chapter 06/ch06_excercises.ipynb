{
 "cells": [
  {
   "cell_type": "code",
   "execution_count": 1,
   "metadata": {},
   "outputs": [],
   "source": [
    "from abc import ABCMeta, abstractmethod, abstractproperty"
   ]
  },
  {
   "cell_type": "code",
   "execution_count": 74,
   "metadata": {},
   "outputs": [],
   "source": [
    "from IPython.display import display, Markdown\n",
    "from random import randint\n",
    "from io import StringIO\n",
    "from vectors import dot\n",
    "\n",
    "\n",
    "def generate_random_matrix(rows: int, cols: int, min=-2, max=2):\n",
    "    return tuple(\n",
    "        tuple(randint(min, max) for _ in range(cols)) for _ in range(rows))\n",
    "\n",
    "\n",
    "def latex_matrix(m: tuple[tuple[int]]) -> str:\n",
    "    buffer = StringIO()\n",
    "    print(r\"\\begin{pmatrix}\", file=buffer)\n",
    "    for row in m:\n",
    "        if type(row) == int:\n",
    "            # its a vector\n",
    "            print(f\"{row}\" + r\"\\\\\", file=buffer)\n",
    "        else:\n",
    "            print(\" & \".join([str(x) for x in row]) + r\"\\\\\", file=buffer)\n",
    "    print(r\"\\end{pmatrix}\", file=buffer)\n",
    "    return buffer.getvalue()\n",
    "\n",
    "\n",
    "def print_matrix(m: tuple[tuple[int]], label: str | None = None):\n",
    "    lm = latex_matrix(m)\n",
    "    if label:\n",
    "        display(Markdown(f'**{label}**: $ {lm} $'))\n",
    "    else:\n",
    "        display(Markdown(f\"$$ {lm} $$\"))\n",
    "\n",
    "def print_matrixes(*matrixes: list[tuple[tuple[int]]], label: str | None = None):\n",
    "    lms = \" \".join(['$ ' + latex_matrix(m) + ' $' for m in matrixes])\n",
    "    if label:\n",
    "        display(Markdown(f'**{label}**: {lms}'))\n",
    "    else:\n",
    "        display(Markdown(lms))\n",
    "\n",
    "def matrix_multiply(a, b):\n",
    "    return tuple(tuple(dot(row, col) for col in zip(*b)) for row in a)\n",
    "from vectors import linear_combination\n",
    "\n",
    "\n",
    "def multiply_matrix_vector(matrix, vector):\n",
    "    return linear_combination(vector, *zip(*matrix))\n"
   ]
  },
  {
   "cell_type": "code",
   "execution_count": 91,
   "metadata": {},
   "outputs": [],
   "source": [
    "# give it a subtract method\n",
    "from typing import Self\n",
    "\n",
    "\n",
    "class Vector(metaclass=ABCMeta):\n",
    "\n",
    "    @abstractmethod\n",
    "    def scale(self, scalar: int):\n",
    "        pass\n",
    "\n",
    "    @abstractmethod\n",
    "    def add(self, other: Self):\n",
    "        pass\n",
    "\n",
    "    @abstractmethod\n",
    "    def is_equal(self, other: Self):\n",
    "        pass\n",
    "\n",
    "    @abstractmethod\n",
    "    def dot(self, other: Self):\n",
    "        pass\n",
    "\n",
    "    @property\n",
    "    @abstractmethod\n",
    "    def dimension(self):\n",
    "        pass\n",
    "\n",
    "    def __mul__(self, rhs):\n",
    "        if isinstance(rhs, Vector):\n",
    "            return self.dot(rhs)\n",
    "        return self.scale(rhs)\n",
    "\n",
    "    def __rmul__(self, lhs):\n",
    "        if isinstance(lhs, Vector):\n",
    "            return self.dot(lhs)\n",
    "        return self.scale(lhs)\n",
    "\n",
    "    def __add__(self, other):\n",
    "        return self.add(other)\n",
    "\n",
    "    def subtract(self, other):\n",
    "        return self.add(-1 * other)\n",
    "\n",
    "    def __sub__(self, other):\n",
    "        return self.subtract(other)\n",
    "\n",
    "    def __eq__(self, other):\n",
    "        return self.is_equal(other)"
   ]
  },
  {
   "cell_type": "markdown",
   "metadata": {},
   "source": [
    "**MINI-PROJECT:** Implement a `CoordinateVector` class inheriting from `Vector`, with an abstract property representing the dimension.  This should save repeated work implementing specific coordinate vector classes; all you should need to do to implement a Vec6 class should be inheriting from `CoordinateVector` and setting the dimension to 6."
   ]
  },
  {
   "cell_type": "code",
   "execution_count": 92,
   "metadata": {},
   "outputs": [],
   "source": [
    "from math import isclose\n",
    "from typing import Self\n",
    "\n",
    "class CoordinateVector(Vector):\n",
    "\n",
    "    def __init__(self, coords: tuple[int]):\n",
    "        self.coords = coords\n",
    "\n",
    "    def scale(self, scalar: int):\n",
    "        return CoordinateVector(tuple(x * scalar for x in self.coords))\n",
    "\n",
    "    def _check_dimensions(self, rhs: Self):\n",
    "        if self.dimension != rhs.dimension:\n",
    "            raise ValueError(\"Refusing to operate on 2 vectors with different dimensions\")\n",
    "\n",
    "\n",
    "    def dot(self, rhs: Self):\n",
    "        self._check_dimensions(rhs)\n",
    "        return sum((a * b for (a,b) in zip(self.coords, rhs.coords)) )\n",
    "\n",
    "    def add(self, other):\n",
    "        self._check_dimensions(other)\n",
    "        return CoordinateVector(tuple(a + b for a,b in zip(self.coords, other.coords)))\n",
    "\n",
    "    def is_equal(self, other):\n",
    "        self._check_dimensions(other)\n",
    "        for (rhs, lhs) in zip(self.coords, other.coords):\n",
    "            if not isclose(rhs, lhs):\n",
    "                print(\"Not equal: %s != %s\" % (rhs, lhs))\n",
    "                return False\n",
    "        return True\n",
    "    \n",
    "    @property\n",
    "    def dimension(self):\n",
    "        return len(self.coords)\n",
    "    \n",
    "\n",
    "    def __repr__(self):\n",
    "        name = f\"Vec{self.dimension}\"\n",
    "        return f\"{name}{self.coords}\"\n",
    "\n",
    "    def display(self):\n",
    "        print_matrix(self.coords)\n",
    "\n",
    "    \n",
    "        \n"
   ]
  },
  {
   "cell_type": "code",
   "execution_count": 21,
   "metadata": {},
   "outputs": [],
   "source": [
    "from random import uniform\n",
    "def random_scalar():\n",
    "    return uniform(-10, 10)\n",
    "\n",
    "def random_coordinate_vector(dim=2):\n",
    "    return CoordinateVector(tuple(random_scalar() for _ in range(dim)))\n",
    "\n",
    "def test_coords_vector(a: int, b: int, u: CoordinateVector, v: CoordinateVector, w: CoordinateVector):\n",
    "    assert (u + v) == (v + u)\n",
    "    assert u + (v + w) == (u + v) + w\n",
    "    assert a * (b * v) == (a * b) * v\n",
    "    assert 1 * v == v\n",
    "    assert (a + b) * v == a * v + b * v\n",
    "    assert a * v + a * w == a * (v + w)\n"
   ]
  },
  {
   "cell_type": "code",
   "execution_count": 25,
   "metadata": {},
   "outputs": [
    {
     "name": "stdout",
     "output_type": "stream",
     "text": [
      "Vec5(1, 2, 3, 4, 5)\n"
     ]
    }
   ],
   "source": [
    "v1 = CoordinateVector((1,2,3))\n",
    "v2 = CoordinateVector((1,2,3, 4, 5))\n"
   ]
  },
  {
   "cell_type": "code",
   "execution_count": 35,
   "metadata": {},
   "outputs": [],
   "source": [
    "for i in range(1):\n",
    "    a, b = random_scalar(), random_scalar()\n",
    "    u, v, w = random_coordinate_vector(6), random_coordinate_vector(\n",
    "        6), random_coordinate_vector(6)\n",
    "    test_coords_vector(a,b, u,v,w)\n"
   ]
  },
  {
   "cell_type": "code",
   "execution_count": 26,
   "metadata": {},
   "outputs": [],
   "source": [
    "# plotting utility function for functions in this chapter\n",
    "import numpy as np\n",
    "import matplotlib.pyplot as plt\n",
    "from math import sin\n",
    "\n",
    "def plot(fs, xmin, xmax):\n",
    "    xs = np.linspace(xmin,xmax,100)\n",
    "    fig, ax = plt.subplots()\n",
    "    ax.axhline(y=0, color='k')\n",
    "    ax.axvline(x=0, color='k')\n",
    "    for f in fs:\n",
    "        ys = [f(x) for x in xs]\n",
    "        plt.plot(xs,ys)"
   ]
  },
  {
   "cell_type": "markdown",
   "metadata": {},
   "source": [
    "**EXERCISE:** Implement class `Function(Vector)` that takes a function of 1 variable as an argument to its constructor, with a `__call__` implemented so we can treat it as a function.  You should be able to run `plot([f,g,f+g,3*g],-10,10)`."
   ]
  },
  {
   "cell_type": "code",
   "execution_count": 39,
   "metadata": {},
   "outputs": [],
   "source": [
    "class Function(Vector):\n",
    "    def __init__(self, *args):\n",
    "        self.args = args\n",
    "    def __call__(self, x: int):\n",
    "        a, b = self.args\n",
    "        return a * x + b\n",
    "    def scale(self, scalar):\n",
    "        return Function(*[scalar * a for a in self.args])\n",
    "\n",
    "    def add(self, other):\n",
    "        return Function(*[a + b for a, b in zip(self.args, other.args)])\n",
    "\n",
    "    def is_equal(self, other):\n",
    "\n",
    "        return self.args == other.args\n",
    "    \n",
    "    @property\n",
    "    def dimension(self):\n",
    "        return len(self.args)\n",
    "    "
   ]
  },
  {
   "cell_type": "code",
   "execution_count": 41,
   "metadata": {},
   "outputs": [
    {
     "data": {
      "image/png": "[encoded data removed]",
      "text/plain": [
       "<Figure size 640x480 with 1 Axes>"
      ]
     },
     "metadata": {},
     "output_type": "display_data"
    }
   ],
   "source": [
    "f = Function(1,-4)\n",
    "g = Function(-2, 9)\n",
    "plot([f,g, f+g, 3*g], -10, 10)"
   ]
  },
  {
   "cell_type": "markdown",
   "metadata": {},
   "source": [
    "**MINI-PROJECT:** Implement a `Matrix` class inheriting from `Vector` with abstract properties representing number of rows and number of columns.  You should not be able to instantiate a Matrix class, but you could make a `Matrix5_by_3` by inheriting from Matrix and specifying the number of rows and columns explicitly."
   ]
  },
  {
   "cell_type": "code",
   "execution_count": 110,
   "metadata": {},
   "outputs": [],
   "source": [
    "from typing import Self\n",
    "\n",
    "\n",
    "class Matrix(Vector):\n",
    "\n",
    "    def __init__(self, matrix_rows: tuple[tuple[int] | CoordinateVector]):\n",
    "\n",
    "        self.matrix = tuple(\n",
    "            row if isinstance(row, CoordinateVector) else CoordinateVector(row)\n",
    "            for row in matrix_rows)\n",
    "\n",
    "    @property\n",
    "    def rows(self):\n",
    "        return len(self.matrix)\n",
    "\n",
    "    @property\n",
    "    def columns(self):\n",
    "        return self.matrix[0].dimension\n",
    "\n",
    "    @property\n",
    "    def dimension(self):\n",
    "        return self.rows\n",
    "\n",
    "    def add(self, other):\n",
    "        return Matrix(tuple(v + other.matrix[i] for (i, v) in self.matrix))\n",
    "\n",
    "    def scale(self, scalar):\n",
    "        return Matrix(tuple(v * scalar for v in self.matrix))\n",
    "\n",
    "    def transpose(self):\n",
    "        return Matrix(\n",
    "            tuple(col) for col in zip(*(v.coords for v in self.matrix)))\n",
    "\n",
    "    def dot(self, vec: CoordinateVector):\n",
    "        return CoordinateVector(tuple(v * vec for v in self.matrix))\n",
    "\n",
    "    def mul_on_matrix(self, rhs: Self):\n",
    "        cols = tuple(self.dot(vec) for vec in rhs.transpose().matrix)\n",
    "        print(cols)\n",
    "        return Matrix(cols).transpose()\n",
    "\n",
    "    def is_equal(self, other):\n",
    "        return all((v == other[i] for (i, v) in enumerate(self.matrix)))\n",
    "\n",
    "    def _as_matrix_rows(self):\n",
    "        return tuple(row.coords for row in self.matrix)\n",
    "\n",
    "    def __repr__(self):\n",
    "        matrix_rows = self._as_matrix_rows()\n",
    "        return str(matrix_rows)\n",
    "\n",
    "    def display(self):\n",
    "        matrix_rows = self._as_matrix_rows()\n",
    "        print_matrix(matrix_rows)\n",
    "\n",
    "    def __mul__(self, rhs: Self | CoordinateVector | int):\n",
    "        if isinstance(rhs, Matrix):\n",
    "            return self.mul_on_matrix(rhs)\n",
    "        elif isinstance(rhs, CoordinateVector):\n",
    "            return self.dot(rhs)\n",
    "        else:\n",
    "            return super().__mul__(rhs)\n",
    "\n",
    "    def __rmul__(self, lhs: Self | CoordinateVector | int):\n",
    "        if isinstance(lhs, Matrix):\n",
    "            return self.mul_on_matrix(lhs)\n",
    "        elif isinstance(lhs, CoordinateVector):\n",
    "            return self.dot(lhs)\n",
    "        else:\n",
    "            return super().__mul__(lhs)\n"
   ]
  },
  {
   "cell_type": "code",
   "execution_count": 111,
   "metadata": {},
   "outputs": [
    {
     "name": "stdout",
     "output_type": "stream",
     "text": [
      "(Vec3(6, 12, 18), Vec3(6, 12, 18), Vec3(6, 12, 18))\n"
     ]
    },
    {
     "data": {
      "text/plain": [
       "((6, 6, 6), (12, 12, 12), (18, 18, 18))"
      ]
     },
     "execution_count": 111,
     "metadata": {},
     "output_type": "execute_result"
    }
   ],
   "source": [
    "mrows = ((1, 1, 1), (2, 2, 2), (3,3,3))\n",
    "vtuple = (1,2,3)\n",
    "m = Matrix(mrows)\n",
    "v = CoordinateVector(vtuple)\n",
    "# m.display()\n",
    "# m.transpose().display()\n",
    "\n",
    "\n",
    "m * v\n",
    "multiply_matrix_vector(mrows, vtuple)\n",
    "\n",
    "matrix_multiply(mrows, mrows)\n",
    "\n",
    "m * m\n",
    "\n",
    "\n"
   ]
  },
  {
   "cell_type": "code",
   "execution_count": 93,
   "metadata": {},
   "outputs": [
    {
     "data": {
      "text/plain": [
       "5"
      ]
     },
     "execution_count": 93,
     "metadata": {},
     "output_type": "execute_result"
    }
   ],
   "source": [
    "a = CoordinateVector((1,2))\n",
    "b = CoordinateVector((1,2))\n",
    "a*b"
   ]
  },
  {
   "cell_type": "code",
   "execution_count": null,
   "metadata": {},
   "outputs": [],
   "source": [
    "class MatrixAsMapFunction(Matrix):\n",
    "    def __call__(self, vec):\n",
    "        return self * vec"
   ]
  }
 ],
 "metadata": {
  "kernelspec": {
   "display_name": ".venv",
   "language": "python",
   "name": "python3"
  },
  "language_info": {
   "codemirror_mode": {
    "name": "ipython",
    "version": 3
   },
   "file_extension": ".py",
   "mimetype": "text/x-python",
   "name": "python",
   "nbconvert_exporter": "python",
   "pygments_lexer": "ipython3",
   "version": "3.11.1"
  },
  "orig_nbformat": 4
 },
 "nbformat": 4,
 "nbformat_minor": 2
}
